{
 "cells": [
  {
   "cell_type": "code",
   "execution_count": null,
   "metadata": {},
   "outputs": [],
   "source": [
    "    year2 = titleText[-4:]\n",
    "\n",
    "    month2EndIndex = titleText.rfind(' ')\n",
    "    month2 = titleText[:month2EndIndex]\n",
    "    month2StartIndex = month2.rfind(' ') + 1\n",
    "    month2 = month2[month2StartIndex:]\n",
    "    month2Num = frCalendar[month2]\n",
    "\n",
    "    date2EndIndex = titleText.rfind(month2) - 1\n",
    "    date2 = titleText[:date2EndIndex]\n",
    "    date2StartIndex = date2.rfind(' ') + 1\n",
    "    date2 = date2[date2StartIndex:]"
   ]
  },
  {
   "cell_type": "code",
   "execution_count": null,
   "metadata": {},
   "outputs": [],
   "source": [
    "date1StartIndex = titleText.find(' ', 74) + 1\n",
    "    date1 = titleText[date1StartIndex:]\n",
    "    date1EndIndex = date1.find(' ')\n",
    "    date1 = date1[:date1EndIndex]\n",
    "\n",
    "    month1StartIndex = titleText.find(date1) + len(date1) + 1\n",
    "    month1 = titleText[month1StartIndex:]\n",
    "    month1EndIndex = month1.find(' ')\n",
    "    month1 = month1[:month1EndIndex]\n",
    "    month1NumForm = frCalendar[month1]\n",
    "\n",
    "    year1StartIndex = titleText.find(month1) + len(month1) + 1\n",
    "    year1 = titleText[year1StartIndex:]\n",
    "    year1EndIndex = year1.find(' ')\n",
    "    year1 = year1[:year1EndIndex]\n",
    "\n",
    "    date1Num = int(date1)\n",
    "    month1Num = int(month1NumForm)\n",
    "    year1Num = int(year1)"
   ]
  },
  {
   "cell_type": "code",
   "execution_count": null,
   "metadata": {},
   "outputs": [],
   "source": [
    "def getNumLog(href, date):\n",
    "\n",
    "    driver = webdriver.Chrome()\n",
    "    driver.get(href)\n",
    "\n",
    "    driver.implicitly_wait(3)\n",
    "\n",
    "    element = driver.find_element(By.XPATH, \"/html/body/div[2]/div[2]/div/div/div/div[1]/div/span[2]/span/a\")\n",
    "    titleText = element.text\n",
    "\n",
    "    driver.close()\n",
    "\n",
    "    # 27 OCTOBRE 1792 AU 30 NOVEMBRE 1792\n",
    "\n",
    "    startIndex = titleText.find(' ', 74) + 1\n",
    "    titleText = titleText[startIndex:]\n",
    "\n",
    "    myDate = titleText.split(' ')\n",
    "    myDate[1] = frCalendar[myDate[1]]\n",
    "\n",
    "    logDate = date.split('-')\n",
    "    logDate.reverse()\n",
    "\n",
    "    if myDate[1] == logDate[1]:\n",
    "        daysDiff = int(logDate[0]) - int(myDate[0]) + 1\n",
    "    else:\n",
    "        if myDate[1] in ['1', '3', '5', '7', '8', '10', '12']:\n",
    "            daysDiff = 31 - int(myDate[0]) + 1 + int(logDate[0])\n",
    "        elif myDate[1] in ['4', '6', '9', '11']:\n",
    "            daysDiff = 30 - int(myDate[0]) + 1 + int(logDate[0])\n",
    "        elif int(myDate[2]) % 4 == 0:\n",
    "            daysDiff = 29 - int(myDate[0]) + 1 + int(logDate[0])\n",
    "        else:\n",
    "            daysDiff = 28 - int(myDate[0]) + 1 + int(logDate[0])\n",
    "\n",
    "\n",
    "    print(myDate)\n",
    "    print(logDate)\n",
    "    print(daysDiff)"
   ]
  },
  {
   "cell_type": "code",
   "execution_count": null,
   "metadata": {},
   "outputs": [],
   "source": [
    "def checkForDate(href, date):\n",
    "    driver = webdriver.Chrome()\n",
    "    driver.get(href)\n",
    "\n",
    "    try:\n",
    "        element = WebDriverWait(driver, 10).until(\n",
    "            EC.presence_of_element_located((By.PARTIAL_LINK_TEXT, date))\n",
    "        )\n",
    "    finally:\n",
    "        driver.quit()"
   ]
  },
  {
   "cell_type": "code",
   "execution_count": null,
   "metadata": {},
   "outputs": [],
   "source": [
    "def dateIntoAPFormat(date):\n",
    "    myDateList = date.split('-')\n",
    "\n",
    "    myYear = myDateList[0]\n",
    "    myDay = myDateList[2]\n",
    "    myMonthNum = myDateList[1]\n",
    "    \n",
    "    for key, value in frCalendar.items():\n",
    "        if value == myMonthNum:\n",
    "            myMonth = key\n",
    "\n",
    "    myMonth = myMonth.lower()\n",
    "\n",
    "    myDate = myDay + ' ' + myMonth + ' ' + myYear\n",
    "\n",
    "    return myDate"
   ]
  },
  {
   "cell_type": "code",
   "execution_count": null,
   "metadata": {},
   "outputs": [],
   "source": [
    "if '. . .' in text:\n",
    "        allSections = text.split('. . .')\n",
    "        for i in range(len(allSections[:])):\n",
    "            allSections[i] = allSections[:][i].replace('</p> <p>', ' ')\n",
    "            if '<i>' in allSections[i]:\n",
    "                allSections[i] = allSections[:][i].replace('<i>', '')\n",
    "                allSections[i] = allSections[:][i].replace('</i>', '')\n",
    "    else:\n",
    "        allSections = [text]\n",
    "    \n",
    "    if '' in allSections:\n",
    "        allSections.remove('')"
   ]
  }
 ],
 "metadata": {
  "language_info": {
   "name": "python"
  }
 },
 "nbformat": 4,
 "nbformat_minor": 2
}
